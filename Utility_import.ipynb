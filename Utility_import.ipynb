{
 "cells": [
  {
   "cell_type": "code",
   "execution_count": 8,
   "id": "21e07c21",
   "metadata": {},
   "outputs": [],
   "source": [
    "from Utility_BMI import BMI_calculator"
   ]
  },
  {
   "cell_type": "code",
   "execution_count": 9,
   "id": "64509468",
   "metadata": {},
   "outputs": [
    {
     "name": "stdout",
     "output_type": "stream",
     "text": [
      "Your BMI is 24.114038033027075 which indicates a Normoweighted status\n",
      "None\n"
     ]
    }
   ],
   "source": [
    "height = int(input('What is your height in cm?'))\n",
    "weight = int(input('What is your weight in KG?'))\n",
    "\n",
    "bmi = BMI_calculator(weight,height)\n",
    "bm = bmi.calculate_BMI()\n",
    "clas=bmi.calculate_class()\n",
    "\n",
    "print(clas)"
   ]
  }
 ],
 "metadata": {
  "kernelspec": {
   "display_name": "Python 3",
   "language": "python",
   "name": "python3"
  },
  "language_info": {
   "codemirror_mode": {
    "name": "ipython",
    "version": 3
   },
   "file_extension": ".py",
   "mimetype": "text/x-python",
   "name": "python",
   "nbconvert_exporter": "python",
   "pygments_lexer": "ipython3",
   "version": "3.12.10"
  }
 },
 "nbformat": 4,
 "nbformat_minor": 5
}
